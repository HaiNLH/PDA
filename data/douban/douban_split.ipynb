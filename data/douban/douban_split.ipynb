{
 "cells": [
  {
   "cell_type": "code",
   "execution_count": null,
   "outputs": [],
   "source": [
    "import numpy as np\n",
    "import pandas as pd"
   ],
   "metadata": {
    "collapsed": false,
    "pycharm": {
     "name": "#%%\n"
    }
   }
  },
  {
   "cell_type": "code",
   "execution_count": null,
   "outputs": [],
   "source": [
    "data_pd = pd.read_csv(\"douban_movie.tsv\",header=0,sep='\\t')\n",
    "data_pd.head(2)"
   ],
   "metadata": {
    "collapsed": false,
    "pycharm": {
     "name": "#%%\n"
    }
   }
  },
  {
   "cell_type": "code",
   "execution_count": null,
   "outputs": [],
   "source": [
    "data_pd['date'] = pd.to_datetime(data_pd['Timestamp'],unit='s')\n",
    "data_pd.head(2)"
   ],
   "metadata": {
    "collapsed": false,
    "pycharm": {
     "name": "#%%\n"
    }
   }
  },
  {
   "cell_type": "code",
   "execution_count": null,
   "outputs": [],
   "source": [
    "data_pd['date'].min()"
   ],
   "metadata": {
    "collapsed": false,
    "pycharm": {
     "name": "#%%\n"
    }
   }
  },
  {
   "cell_type": "code",
   "execution_count": null,
   "outputs": [],
   "source": [
    "data_pd['date'].max()"
   ],
   "metadata": {
    "collapsed": false,
    "pycharm": {
     "name": "#%%\n"
    }
   }
  },
  {
   "cell_type": "code",
   "execution_count": null,
   "outputs": [],
   "source": [
    "data_pd.shape"
   ],
   "metadata": {
    "collapsed": false,
    "pycharm": {
     "name": "#%%\n"
    }
   }
  },
  {
   "cell_type": "code",
   "execution_count": null,
   "outputs": [],
   "source": [
    "data_pd['year'] = data_pd['date'].dt.year\n",
    "data_pd.groupby(['year']).agg({'Rating':'count'})"
   ],
   "metadata": {
    "collapsed": false,
    "pycharm": {
     "name": "#%%\n"
    }
   }
  },
  {
   "cell_type": "code",
   "execution_count": null,
   "outputs": [],
   "source": [
    "data_pd = data_pd[data_pd['year']>=2010]\n",
    "data_pd = data_pd.drop_duplicates(subset=['UserId','ItemId'],ignore_index=True)\n",
    "data_pd.shape"
   ],
   "metadata": {
    "collapsed": false,
    "pycharm": {
     "name": "#%%\n"
    }
   }
  },
  {
   "cell_type": "code",
   "execution_count": null,
   "outputs": [],
   "source": [
    "data_pd.groupby('Rating').agg({'ItemId':'count'})"
   ],
   "metadata": {
    "collapsed": false,
    "pycharm": {
     "name": "#%%\n"
    }
   }
  },
  {
   "cell_type": "code",
   "execution_count": null,
   "outputs": [],
   "source": [
    "def filter_g_k_one(data,k=10,u_name='user_id',i_name='business_id',y_name='stars'):\n",
    "    item_group = data.groupby(i_name).agg({y_name:'count'})\n",
    "    item_g10 = item_group[item_group[y_name]>=k].index\n",
    "    data_new = data[data[i_name].isin(item_g10)]\n",
    "    user_group = data_new.groupby(u_name).agg({y_name:'count'})\n",
    "    user_g10 = user_group[user_group[y_name]>=k].index\n",
    "    data_new = data_new[data_new[u_name].isin(user_g10)]\n",
    "    return data_new\n",
    "\n",
    "def filter_tot(data,k=10,u_name='user_id',i_name='business_id',y_name='stars'):\n",
    "    data_new=data\n",
    "    while True:\n",
    "        data_new = filter_g_k_one(data_new,k=k,u_name=u_name,i_name=i_name,y_name=y_name)\n",
    "        m1 = data_new.groupby(i_name).agg({y_name:'count'})\n",
    "        m2 = data_new.groupby(u_name).agg({y_name:'count'})\n",
    "        num1 = m1[y_name].min()\n",
    "        num2 = m2[y_name].min()\n",
    "        print('item min:',num1,'user min:',num2)\n",
    "        if num1>=k and num2>=k:\n",
    "            break\n",
    "    return data_new"
   ],
   "metadata": {
    "collapsed": false,
    "pycharm": {
     "name": "#%%\n"
    }
   }
  },
  {
   "cell_type": "code",
   "execution_count": null,
   "outputs": [],
   "source": [
    "data = filter_tot(data_pd,k=10,u_name='UserId',i_name='ItemId',y_name='Rating')\n",
    "data.shape"
   ],
   "metadata": {
    "collapsed": false,
    "pycharm": {
     "name": "#%%\n"
    }
   }
  },
  {
   "cell_type": "code",
   "execution_count": null,
   "outputs": [],
   "source": [
    "data['UserId'].unique().shape"
   ],
   "metadata": {
    "collapsed": false,
    "pycharm": {
     "name": "#%%\n"
    }
   }
  },
  {
   "cell_type": "code",
   "execution_count": null,
   "outputs": [],
   "source": [
    "data['ItemId'].unique().shape\n"
   ],
   "metadata": {
    "collapsed": false,
    "pycharm": {
     "name": "#%%\n"
    }
   }
  },
  {
   "cell_type": "code",
   "execution_count": null,
   "outputs": [],
   "source": [
    "time_min = data['Timestamp'].min()\n",
    "time_max = data['Timestamp'].max()\n",
    "slot_gap = (time_max - time_min) /10\n",
    "data['time_slot'] = data[\"Timestamp\"].apply(lambda x: int(min(int((x-time_min))//slot_gap,9)))\n",
    "data['time_slot'] = data[['time_slot']].astype(np.int)"
   ],
   "metadata": {
    "collapsed": false,
    "pycharm": {
     "name": "#%%\n"
    }
   }
  },
  {
   "cell_type": "code",
   "execution_count": null,
   "outputs": [],
   "source": [
    "timestamp = time_min + slot_gap\n",
    "import time\n",
    "\n",
    "#转换成localtime\n",
    "time_local = time.localtime(timestamp)\n",
    "dt = time.strftime(\"%Y-%m-%d %H:%M:%S\",time_local)\n",
    "dt"
   ],
   "metadata": {
    "collapsed": false,
    "pycharm": {
     "name": "#%%\n"
    }
   }
  },
  {
   "cell_type": "code",
   "execution_count": null,
   "outputs": [],
   "source": [
    "data.head(4)"
   ],
   "metadata": {
    "collapsed": false,
    "pycharm": {
     "name": "#%%\n"
    }
   }
  },
  {
   "cell_type": "code",
   "execution_count": null,
   "outputs": [],
   "source": [
    "train_slots = [0 ,1, 2, 3, 4, 5, 6,7,8]\n",
    "test_slots = [9]\n",
    "data_train = data[data['time_slot'].isin(train_slots)]\n",
    "data_test = data[data['time_slot'].isin(test_slots)]\n",
    "print(\"train:\",data_train.shape[0],'test:',data_test.shape[0])"
   ],
   "metadata": {
    "collapsed": false,
    "pycharm": {
     "name": "#%%\n"
    }
   }
  },
  {
   "cell_type": "code",
   "execution_count": null,
   "outputs": [],
   "source": [
    "user_in_train = data_train['UserId'].unique()\n",
    "item_in_train = data_train['ItemId'].unique()\n",
    "\n",
    "# filter new user/item in train\n",
    "data_test = data_test[data_test['UserId'].isin(user_in_train)]\n",
    "print(\"user not include in user_items_test:\",data_test.shape)\n",
    "data_test = data_test[data_test['ItemId'].isin(item_in_train)]\n",
    "print(\"train:\",data_train.shape[0],'not-new test:',data_test.shape[0])\n",
    "\n",
    "# filter repeat\n",
    "data_train = data_train.drop_duplicates(subset=['UserId','ItemId'],keep='first')\n",
    "data_test = data_test.drop_duplicates(subset=['UserId','ItemId'],keep='first')\n",
    "print(\"not repeat train:\",data_train.shape[0],'not-repeat test:',data_test.shape[0])"
   ],
   "metadata": {
    "collapsed": false,
    "pycharm": {
     "name": "#%%\n"
    }
   }
  },
  {
   "cell_type": "code",
   "execution_count": null,
   "outputs": [],
   "source": [
    "import numpy as np\n",
    "user = data_train['UserId'].unique()\n",
    "item= data_train['ItemId'].unique()\n",
    "user_to_id = dict(zip(list(user),list(np.arange(user.shape[0]))))\n",
    "item_to_id = dict(zip(list(item),list(range(item.shape[0]))))\n",
    "print(\"user num:\",user.shape)\n",
    "print(\"item num:\", item.shape)\n",
    "data_train['uid'] = data_train['UserId'].map(user_to_id)\n",
    "data_train['iid'] = data_train['ItemId'].map(item_to_id)\n",
    "\n",
    "data_test['uid'] = data_test['UserId'].map(user_to_id)\n",
    "data_test['iid'] = data_test['ItemId'].map(item_to_id)\n",
    "\n",
    "data_test.head(2)"
   ],
   "metadata": {
    "collapsed": false,
    "pycharm": {
     "name": "#%%\n"
    }
   }
  },
  {
   "cell_type": "markdown",
   "source": [
    "\n",
    "# continue"
   ],
   "metadata": {
    "collapsed": false
   }
  },
  {
   "cell_type": "code",
   "execution_count": null,
   "outputs": [],
   "source": [
    "data_train = data_train[['uid','iid','time_slot','Rating']]\n",
    "data_test = data_test[['uid','iid','time_slot','Rating']]\n",
    "#\n",
    "columns = ['uid','iid','time_slot','click']\n",
    "data_train.columns = columns\n",
    "data_test.columns = columns\n",
    "data_test.head(2)"
   ],
   "metadata": {
    "collapsed": false,
    "pycharm": {
     "name": "#%%\n"
    }
   }
  },
  {
   "cell_type": "code",
   "execution_count": null,
   "outputs": [],
   "source": [
    "# real time"
   ],
   "metadata": {
    "collapsed": false,
    "pycharm": {
     "name": "#%%\n"
    }
   }
  },
  {
   "cell_type": "code",
   "execution_count": null,
   "outputs": [],
   "source": [],
   "metadata": {
    "collapsed": false,
    "pycharm": {
     "name": "#%%\n"
    }
   }
  },
  {
   "cell_type": "code",
   "execution_count": null,
   "outputs": [],
   "source": [
    "# split testing and valuation"
   ],
   "metadata": {
    "collapsed": false,
    "pycharm": {
     "name": "#%%\n"
    }
   }
  },
  {
   "cell_type": "code",
   "execution_count": null,
   "outputs": [],
   "source": [
    "data_test['uid'].unique().shape"
   ],
   "metadata": {
    "collapsed": false,
    "pycharm": {
     "name": "#%%\n"
    }
   }
  },
  {
   "cell_type": "code",
   "execution_count": null,
   "outputs": [],
   "source": [],
   "metadata": {
    "collapsed": false,
    "pycharm": {
     "name": "#%%\n"
    }
   }
  },
  {
   "cell_type": "code",
   "execution_count": null,
   "outputs": [],
   "source": [
    "test_unique_user = data_test['uid'].unique()\n",
    "N_ = test_unique_user.shape[0]\n",
    "np.random.seed(2020)\n",
    "np.random.shuffle(test_unique_user)\n",
    "split_idx  = int(N_*0.7)\n",
    "test_real_user = test_unique_user[:split_idx]\n",
    "valid_real_user = test_unique_user[split_idx:]\n",
    "print(\"tot user in the last stage:\",N_,\"real test user:\",test_real_user.shape[0],\"real valid user:\",valid_real_user.shape[0])"
   ],
   "metadata": {
    "collapsed": false,
    "pycharm": {
     "name": "#%%\n"
    }
   }
  },
  {
   "cell_type": "code",
   "execution_count": null,
   "outputs": [],
   "source": [],
   "metadata": {
    "collapsed": false,
    "pycharm": {
     "name": "#%%\n"
    }
   }
  },
  {
   "cell_type": "code",
   "execution_count": null,
   "outputs": [],
   "source": [
    "data_real_test = data_test[data_test['uid'].isin(test_real_user)]\n",
    "data_real_valid = data_test[data_test['uid'].isin(valid_real_user)]\n",
    "print(\"tot itr:\",data_test.shape,\"real test:\",data_real_test.shape,\"real valid:\",data_real_valid.shape)"
   ],
   "metadata": {
    "collapsed": false,
    "pycharm": {
     "name": "#%%\n"
    }
   }
  },
  {
   "cell_type": "markdown",
   "source": [
    "# saving"
   ],
   "metadata": {
    "collapsed": false
   }
  },
  {
   "cell_type": "code",
   "execution_count": null,
   "outputs": [],
   "source": [
    "import os\n",
    "path_folder = \"./douban_moive/\"\n",
    "if not os.path.exists(path_folder):\n",
    "    os.mkdir(path_folder)\n",
    "user_items_test = data_real_test.sort_values(by='uid',ignore_index=True)\n",
    "print(user_items_test.head(2))\n",
    "test_itr = user_items_test.values[:,0:2]\n",
    "print(test_itr.shape)\n",
    "with open('./douban_moive/test_real.txt','w') as f:\n",
    "    u_pre = test_itr[0,0]\n",
    "    k = 0\n",
    "    for x in test_itr:\n",
    "        u = x[0]\n",
    "        i = x[1]\n",
    "        if u !=u_pre or k==0:\n",
    "            u_pre = u\n",
    "            if k>0:\n",
    "                f.write('\\n')\n",
    "            f.write(str(u))\n",
    "            k = 1\n",
    "        f.write(' '+str(i))"
   ],
   "metadata": {
    "collapsed": false,
    "pycharm": {
     "name": "#%%\n"
    }
   }
  },
  {
   "cell_type": "code",
   "execution_count": null,
   "outputs": [],
   "source": [
    "\n",
    "user_items_test = data_real_valid.sort_values(by='uid',ignore_index=True)\n",
    "print(user_items_test.head(2))\n",
    "test_itr = user_items_test.values[:,0:2]\n",
    "print(test_itr.shape)\n",
    "with open('./douban_moive/valid_real.txt','w') as f:\n",
    "    u_pre = test_itr[0,0]\n",
    "    k = 0\n",
    "    for x in test_itr:\n",
    "        u = x[0]\n",
    "        i = x[1]\n",
    "        if u !=u_pre or k==0:\n",
    "            u_pre = u\n",
    "            if k>0:\n",
    "                f.write('\\n')\n",
    "            f.write(str(u))\n",
    "            k = 1\n",
    "        f.write(' '+str(i))"
   ],
   "metadata": {
    "collapsed": false,
    "pycharm": {
     "name": "#%%\n"
    }
   }
  },
  {
   "cell_type": "code",
   "execution_count": null,
   "outputs": [],
   "source": [],
   "metadata": {
    "collapsed": false,
    "pycharm": {
     "name": "#%%\n"
    }
   }
  },
  {
   "cell_type": "code",
   "execution_count": null,
   "outputs": [],
   "source": [
    "user_items_test = data_train.sort_values(by='uid',ignore_index=True)\n",
    "print(user_items_test.head(2))\n",
    "test_itr = user_items_test.values[:,0:2]\n",
    "print(test_itr.shape)\n",
    "with open('./douban_moive/train.txt','w') as f:\n",
    "    u_pre = test_itr[0,0]\n",
    "    k = 0\n",
    "    for x in test_itr:\n",
    "        u = x[0]\n",
    "        i = x[1]\n",
    "        if u !=u_pre or k==0:\n",
    "            u_pre = u\n",
    "            if k>0:\n",
    "                f.write('\\n')\n",
    "            f.write(str(u))\n",
    "            k = 1\n",
    "        f.write(' '+str(i))"
   ],
   "metadata": {
    "collapsed": false,
    "pycharm": {
     "name": "#%%\n"
    }
   }
  },
  {
   "cell_type": "code",
   "execution_count": null,
   "outputs": [],
   "source": [],
   "metadata": {
    "collapsed": false,
    "pycharm": {
     "name": "#%%\n"
    }
   }
  },
  {
   "cell_type": "code",
   "execution_count": null,
   "outputs": [],
   "source": [
    "data_train.to_csv(\"./douban_moive/train_with_time.txt\",index=False,header=False,sep=' ')"
   ],
   "metadata": {
    "collapsed": false,
    "pycharm": {
     "name": "#%%\n"
    }
   }
  },
  {
   "cell_type": "code",
   "execution_count": null,
   "outputs": [],
   "source": [
    "data_real_valid.to_csv(\"./douban_moive/valid_with_time.txt\",index=False,header=False,sep=' ')\n",
    "data_real_test.to_csv(\"./douban_moive/test_with_time.txt\",index=False,header=False,sep=' ')"
   ],
   "metadata": {
    "collapsed": false,
    "pycharm": {
     "name": "#%%\n"
    }
   }
  },
  {
   "cell_type": "code",
   "execution_count": null,
   "outputs": [],
   "source": [
    "data_train['iid'].max()\n"
   ],
   "metadata": {
    "collapsed": false,
    "pycharm": {
     "name": "#%%\n"
    }
   }
  },
  {
   "cell_type": "code",
   "execution_count": null,
   "outputs": [],
   "source": [
    "for slot_id in train_slots:\n",
    "    slot_data = data_train[data_train['time_slot'].isin([slot_id])]\n",
    "    slot_data  = slot_data.sort_values(by=['iid'],ignore_index=True)\n",
    "    slot_data_np = slot_data[['iid','uid']].values[:,0:2]\n",
    "    print(slot_data.head(2))\n",
    "    print(slot_data[['iid','uid']].head(2))\n",
    "    print(slot_data.shape)\n",
    "    with open(\"./douban_moive/t_\"+str(slot_id)+\".txt\",'w') as f:\n",
    "        i_pre = slot_data_np[0,0]\n",
    "        k = 0\n",
    "        for x in slot_data_np:\n",
    "            i_ = x[0]\n",
    "            u_ = x[1]\n",
    "            if i_ != i_pre or k == 0:\n",
    "                i_pre = i_\n",
    "                if k>0:\n",
    "                    f.write('\\n')\n",
    "                f.write(str(i_))\n",
    "                k = 1\n",
    "            f.write(\" \" + str(u_))"
   ],
   "metadata": {
    "collapsed": false,
    "pycharm": {
     "name": "#%%\n"
    }
   }
  },
  {
   "cell_type": "code",
   "execution_count": null,
   "outputs": [],
   "source": [],
   "metadata": {
    "collapsed": false,
    "pycharm": {
     "name": "#%%\n"
    }
   }
  },
  {
   "cell_type": "code",
   "execution_count": null,
   "outputs": [],
   "source": [
    "slot_data = data_test\n",
    "slot_data  = slot_data.sort_values(by=['iid'],ignore_index=True)\n",
    "slot_data_np = slot_data[['iid','uid']].values[:,0:2]\n",
    "print(slot_data.head(2))\n",
    "print(slot_data[['iid','uid']].head(2))\n",
    "print(slot_data.shape)\n",
    "with open(\"./douban_moive/t_\"+str(9)+\".txt\",'w') as f:\n",
    "    i_pre = slot_data_np[0,0]\n",
    "    k = 0\n",
    "    for x in slot_data_np:\n",
    "        i_ = x[0]\n",
    "        u_ = x[1]\n",
    "        if i_ != i_pre or k == 0:\n",
    "            i_pre = i_\n",
    "            if k>0:\n",
    "                f.write('\\n')\n",
    "            f.write(str(i_))\n",
    "            k = 1\n",
    "        f.write(\" \" + str(u_))\n"
   ],
   "metadata": {
    "collapsed": false,
    "pycharm": {
     "name": "#%%\n"
    }
   }
  },
  {
   "cell_type": "markdown",
   "source": [],
   "metadata": {
    "collapsed": false
   }
  }
 ],
 "metadata": {
  "kernelspec": {
   "display_name": "Python 3",
   "language": "python",
   "name": "python3"
  },
  "language_info": {
   "codemirror_mode": {
    "name": "ipython",
    "version": 2
   },
   "file_extension": ".py",
   "mimetype": "text/x-python",
   "name": "python",
   "nbconvert_exporter": "python",
   "pygments_lexer": "ipython2",
   "version": "2.7.6"
  }
 },
 "nbformat": 4,
 "nbformat_minor": 0
}