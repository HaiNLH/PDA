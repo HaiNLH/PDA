{
 "cells": [
  {
   "cell_type": "code",
   "execution_count": null,
   "outputs": [],
   "source": [
    "import pandas as pd"
   ],
   "metadata": {
    "collapsed": false,
    "pycharm": {
     "name": "#%%\n"
    }
   }
  },
  {
   "cell_type": "code",
   "execution_count": null,
   "outputs": [],
   "source": [
    "data = pd.read_csv(\"train_interaction.txt\",header=None,sep='\\t')\n",
    "data.columns = ['u_id','photo_id','click','like','follow','time','play_time','duration_time']\n",
    "data.describe()"
   ],
   "metadata": {
    "collapsed": false,
    "pycharm": {
     "name": "#%%\n"
    }
   }
  },
  {
   "cell_type": "code",
   "execution_count": null,
   "outputs": [],
   "source": [
    "data = data[['u_id','photo_id','click','time']]\n",
    "data.shape"
   ],
   "metadata": {
    "collapsed": false,
    "pycharm": {
     "name": "#%%\n"
    }
   }
  },
  {
   "cell_type": "code",
   "execution_count": null,
   "outputs": [],
   "source": [
    "data['time'].max()"
   ],
   "metadata": {
    "collapsed": false,
    "pycharm": {
     "name": "#%%\n"
    }
   }
  },
  {
   "cell_type": "code",
   "execution_count": null,
   "outputs": [],
   "source": [
    "import time\n",
    "\n",
    "# 输入毫秒级的时间，转出正常格式的时间\n",
    "def timeStamp(timeNum):\n",
    "    timeStamp = float(timeNum/100)\n",
    "    timeArray = time.localtime(timeStamp)\n",
    "    otherStyleTime = time.strftime(\"%Y-%m-%d %H:%M:%S\", timeArray)\n",
    "    print(otherStyleTime)\n",
    "timeStamp(data['time'].max())"
   ],
   "metadata": {
    "collapsed": false,
    "pycharm": {
     "name": "#%%\n"
    }
   }
  },
  {
   "cell_type": "code",
   "execution_count": null,
   "outputs": [],
   "source": [
    "timeStamp(data['time'].min())"
   ],
   "metadata": {
    "collapsed": false,
    "pycharm": {
     "name": "#%%\n"
    }
   }
  },
  {
   "cell_type": "markdown",
   "source": [
    "# only keep positive samples"
   ],
   "metadata": {
    "collapsed": false
   }
  },
  {
   "cell_type": "code",
   "execution_count": null,
   "outputs": [],
   "source": [
    "data = data[data['click'].isin([1])]\n",
    "data.shape"
   ],
   "metadata": {
    "collapsed": false,
    "pycharm": {
     "name": "#%%\n"
    }
   }
  },
  {
   "cell_type": "code",
   "execution_count": null,
   "outputs": [],
   "source": [
    "def filter_g_k_one(data,k=10,u_name='user_id',i_name='business_id',y_name='stars'):\n",
    "    item_group = data.groupby(i_name).agg({y_name:'count'})\n",
    "    item_g10 = item_group[item_group[y_name]>=10].index\n",
    "    data_new = data[data[i_name].isin(item_g10)]\n",
    "    user_group = data_new.groupby(u_name).agg({y_name:'count'})\n",
    "    user_g10 = user_group[user_group[y_name]>=10].index\n",
    "    data_new = data_new[data_new[u_name].isin(user_g10)]\n",
    "    return data_new\n",
    "\n",
    "def filter_tot(data,k=10,u_name='user_id',i_name='business_id',y_name='stars'):\n",
    "    data_new=data\n",
    "    while True:\n",
    "        data_new = filter_g_k_one(data_new,k=k,u_name=u_name,i_name=i_name,y_name=y_name)\n",
    "        m1 = data_new.groupby(i_name).agg({y_name:'count'})\n",
    "        m2 = data_new.groupby(u_name).agg({y_name:'count'})\n",
    "        num1 = m1[y_name].min()\n",
    "        num2 = m2[y_name].min()\n",
    "        print('item min:',num1,'user min:',num2)\n",
    "        if num1>=k and num2>=k:\n",
    "            break\n",
    "    return data_new"
   ],
   "metadata": {
    "collapsed": false,
    "pycharm": {
     "name": "#%%\n"
    }
   }
  },
  {
   "cell_type": "code",
   "execution_count": null,
   "outputs": [],
   "source": [
    "data_10core = filter_tot(data,k=10,u_name='u_id',i_name='photo_id',y_name='click')\n",
    "data_10core.shape"
   ],
   "metadata": {
    "collapsed": false,
    "pycharm": {
     "name": "#%%\n"
    }
   }
  },
  {
   "cell_type": "code",
   "execution_count": null,
   "outputs": [],
   "source": [
    "user_num = data_10core['u_id'].unique().shape[0]\n",
    "user_num\n",
    "item_num = data_10core['photo_id'].unique().shape[0]\n",
    "item_num\n",
    "itr_num = data_10core.shape[0]*1.\n",
    "sparse =  itr_num / (user_num*item_num)\n",
    "sparse\n",
    "print(\"user:\",user_num,'item_num:',item_num,'sparse:',sparse)\n",
    "print(\"avg itr of user:\",itr_num/user_num,'avg itr of item:',itr_num/item_num)"
   ],
   "metadata": {
    "collapsed": false,
    "pycharm": {
     "name": "#%%\n"
    }
   }
  },
  {
   "cell_type": "code",
   "execution_count": null,
   "outputs": [],
   "source": [
    "data = data_10core\n",
    "data = data.sort_values(by=['time'],ignore_index=True)\n",
    "slot_num = 10\n",
    "time_span = (data['time'].max() - data['time'].min())//slot_num\n",
    "time_min = data['time'].min()\n",
    "data['time_slot'] = data['time'].apply(lambda x: min((x-time_min)//time_span,slot_num-1))"
   ],
   "metadata": {
    "collapsed": false,
    "pycharm": {
     "name": "#%%\n"
    }
   }
  },
  {
   "cell_type": "code",
   "execution_count": null,
   "outputs": [],
   "source": [
    "data.tail(5)"
   ],
   "metadata": {
    "collapsed": false,
    "pycharm": {
     "name": "#%%\n"
    }
   }
  },
  {
   "cell_type": "code",
   "execution_count": null,
   "outputs": [],
   "source": [
    "train_slot  = round(slot_num * 0.9)\n",
    "data_train = data[data['time_slot'].isin(list(range(0,train_slot)))]\n",
    "data_test = data[data['time_slot'].isin(list(range(train_slot,slot_num)))]\n",
    "print(\"train number:\",data_train.shape,\"data_test:\",data_test.shape)"
   ],
   "metadata": {
    "collapsed": false,
    "pycharm": {
     "name": "#%%\n"
    }
   }
  },
  {
   "cell_type": "markdown",
   "source": [
    "filter new user/item in test set, and drop repeated itr in train and item"
   ],
   "metadata": {
    "collapsed": false
   }
  },
  {
   "cell_type": "code",
   "execution_count": null,
   "outputs": [],
   "source": [
    "user_in_train = data_train['u_id'].unique()\n",
    "item_in_train = data_train['photo_id'].unique()\n",
    "\n",
    "data_test = data_test[data_test['u_id'].isin(user_in_train)]\n",
    "print(\"user not include in user_items_test:\",data_test.shape)\n",
    "data_test = data_test[data_test['photo_id'].isin(item_in_train)]\n",
    "print(\"train:\",data_train.shape[0],'not-new test:',data_test.shape[0])\n",
    "\n",
    "data_train = data_train.drop_duplicates(subset=['u_id','photo_id'],keep='first')\n",
    "data_test = data_test.drop_duplicates(subset=['u_id','photo_id'],keep='first')\n",
    "print(\"not repeat train:\",data_train.shape[0],'not-repeat test:',data_test.shape[0])"
   ],
   "metadata": {
    "collapsed": false,
    "pycharm": {
     "name": "#%%\n"
    }
   }
  },
  {
   "cell_type": "code",
   "execution_count": null,
   "outputs": [],
   "source": [
    "print(\"user in train:\",user_in_train.shape,'item in train:',item_in_train.shape)"
   ],
   "metadata": {
    "collapsed": false,
    "pycharm": {
     "name": "#%%\n"
    }
   }
  },
  {
   "cell_type": "code",
   "execution_count": null,
   "outputs": [],
   "source": [
    "import numpy as np\n",
    "user = data_train['u_id'].unique()\n",
    "item= data_train['photo_id'].unique()\n",
    "user_to_id = dict(zip(list(user),list(np.arange(user.shape[0]))))\n",
    "item_to_id = dict(zip(list(item),list(range(item.shape[0]))))\n",
    "print(\"user num:\",user.shape)\n",
    "print(\"item num:\", item.shape)\n",
    "data_train['uid'] = data_train['u_id'].map(user_to_id)\n",
    "data_train['iid'] = data_train['photo_id'].map(item_to_id)\n",
    "\n",
    "data_test['uid'] = data_test['u_id'].map(user_to_id)\n",
    "data_test['iid'] = data_test['photo_id'].map(item_to_id)\n",
    "\n",
    "data_test.head(2)"
   ],
   "metadata": {
    "collapsed": false,
    "pycharm": {
     "name": "#%%\n"
    }
   }
  },
  {
   "cell_type": "code",
   "execution_count": null,
   "outputs": [],
   "source": [],
   "metadata": {
    "collapsed": false,
    "pycharm": {
     "name": "#%%\n"
    }
   }
  },
  {
   "cell_type": "markdown",
   "source": [
    "# tot stage data"
   ],
   "metadata": {
    "collapsed": false
   }
  },
  {
   "cell_type": "code",
   "execution_count": null,
   "outputs": [],
   "source": [
    "data_train = data_train[['uid','iid','time_slot','click']]\n",
    "data_test = data_test[['uid','iid','time_slot','click']]"
   ],
   "metadata": {
    "collapsed": false,
    "pycharm": {
     "name": "#%%\n"
    }
   }
  },
  {
   "cell_type": "code",
   "execution_count": null,
   "outputs": [],
   "source": [
    "data_train.shape"
   ],
   "metadata": {
    "collapsed": false,
    "pycharm": {
     "name": "#%%\n"
    }
   }
  },
  {
   "cell_type": "code",
   "execution_count": null,
   "outputs": [],
   "source": [
    "data_test.shape"
   ],
   "metadata": {
    "collapsed": false,
    "pycharm": {
     "name": "#%%\n"
    }
   }
  },
  {
   "cell_type": "code",
   "execution_count": null,
   "outputs": [],
   "source": [
    "mm = pd.concat([data_train,data_test],axis=0,ignore_index=True)\n",
    "mm.shape"
   ],
   "metadata": {
    "collapsed": false,
    "pycharm": {
     "name": "#%%\n"
    }
   }
  },
  {
   "cell_type": "code",
   "execution_count": null,
   "outputs": [],
   "source": [
    "mm.head(4)"
   ],
   "metadata": {
    "collapsed": false,
    "pycharm": {
     "name": "#%%\n"
    }
   }
  },
  {
   "cell_type": "code",
   "execution_count": null,
   "outputs": [],
   "source": [
    "mm.tail(5)\n",
    "# mm['time_slot'] = mm['time_slot'].astype(int)\n",
    "# mm['click'] = mm['click'].astype(int)\n",
    "mm = mm [['uid','iid','click','time_slot']]\n",
    "mm.columns = ['user_id:token', 'item_id:token', 'rating:float','timestamp:float']\n",
    "mm.head(5)"
   ],
   "metadata": {
    "collapsed": false,
    "pycharm": {
     "name": "#%%\n"
    }
   }
  },
  {
   "cell_type": "code",
   "execution_count": null,
   "outputs": [],
   "source": [
    "mm.to_csv(\"kwai.inter\",index=False,sep=' ')"
   ],
   "metadata": {
    "collapsed": false,
    "pycharm": {
     "name": "#%%\n"
    }
   }
  },
  {
   "cell_type": "code",
   "execution_count": null,
   "outputs": [],
   "source": [
    "m=data_test.groupby('uid').agg({'iid':'count'})\n",
    "m.head(2)"
   ],
   "metadata": {
    "collapsed": false,
    "pycharm": {
     "name": "#%%\n"
    }
   }
  },
  {
   "cell_type": "code",
   "execution_count": null,
   "outputs": [],
   "source": [
    "m.describe()"
   ],
   "metadata": {
    "collapsed": false,
    "pycharm": {
     "name": "#%%\n"
    }
   }
  },
  {
   "cell_type": "code",
   "execution_count": null,
   "outputs": [],
   "source": [
    "data_train.shape"
   ],
   "metadata": {
    "collapsed": false,
    "pycharm": {
     "name": "#%%\n"
    }
   }
  },
  {
   "cell_type": "markdown",
   "source": [
    "# popularity any"
   ],
   "metadata": {
    "collapsed": false
   }
  },
  {
   "cell_type": "markdown",
   "source": [
    "# saving ..."
   ],
   "metadata": {
    "collapsed": false
   }
  },
  {
   "cell_type": "code",
   "execution_count": null,
   "outputs": [],
   "source": [
    "data_train.to_csv('train_interaction_filter.txt',header=False,index=False,sep=' ')\n",
    "data_test.to_csv('teset_interaction_filter.txt',header=None,index=False,sep=' ')"
   ],
   "metadata": {
    "collapsed": false,
    "pycharm": {
     "name": "#%%\n"
    }
   }
  },
  {
   "cell_type": "code",
   "execution_count": null,
   "outputs": [],
   "source": [
    "data_train.shape"
   ],
   "metadata": {
    "collapsed": false,
    "pycharm": {
     "name": "#%%\n"
    }
   }
  },
  {
   "cell_type": "code",
   "execution_count": null,
   "outputs": [],
   "source": [
    "user_clicked_items = data_train.sort_values(by='uid',ignore_index=True)\n",
    "print(user_clicked_items.shape)\n",
    "user_clicked_items.head(2)"
   ],
   "metadata": {
    "collapsed": false,
    "pycharm": {
     "name": "#%%\n"
    }
   }
  },
  {
   "cell_type": "code",
   "execution_count": null,
   "outputs": [],
   "source": [
    "train_itr = user_clicked_items.values[:,0:2]\n",
    "train_itr.shape"
   ],
   "metadata": {
    "collapsed": false,
    "pycharm": {
     "name": "#%%\n"
    }
   }
  },
  {
   "cell_type": "code",
   "execution_count": null,
   "outputs": [],
   "source": [
    "with open('train.txt','w') as f:\n",
    "    u_pre = train_itr[0,0]\n",
    "    k = 0\n",
    "    for x in train_itr:\n",
    "        u = x[0]\n",
    "        i = x[1]\n",
    "        if u !=u_pre or k==0:\n",
    "            u_pre = u\n",
    "            if k>0:\n",
    "                f.write('\\n')\n",
    "            f.write(str(u))\n",
    "            k = 1\n",
    "        f.write(' '+str(i))"
   ],
   "metadata": {
    "collapsed": false,
    "pycharm": {
     "name": "#%%\n"
    }
   }
  },
  {
   "cell_type": "code",
   "execution_count": null,
   "outputs": [],
   "source": [
    "user_items_test = data_test.sort_values(by='uid',ignore_index=True)\n",
    "print(user_items_test.head(2))\n",
    "test_itr = user_items_test.values[:,0:2]\n",
    "test_itr.shape\n",
    "with open('test.txt','w') as f:\n",
    "    u_pre = test_itr[0,0]\n",
    "    k = 0\n",
    "    for x in test_itr:\n",
    "        u = x[0]\n",
    "        i = x[1]\n",
    "        if u !=u_pre or k==0:\n",
    "            u_pre = u\n",
    "            if k>0:\n",
    "                f.write('\\n')\n",
    "            f.write(str(u))\n",
    "            k = 1\n",
    "        f.write(' '+str(i))"
   ],
   "metadata": {
    "collapsed": false,
    "pycharm": {
     "name": "#%%\n"
    }
   }
  },
  {
   "cell_type": "code",
   "execution_count": null,
   "outputs": [],
   "source": [
    "data_finetune = data_train[data_train['time_slot'].isin([train_slot-1])]\n",
    "user_items_test = data_finetune.sort_values(by='uid',ignore_index=True)\n",
    "print(user_items_test.head(2))\n",
    "print('time slot:',data_finetune['time_slot'].unique())\n",
    "test_itr = user_items_test.values[:,0:2]\n",
    "test_itr.shape\n",
    "with open('./fine_tune/train.txt','w') as f:\n",
    "    u_pre = test_itr[0,0]\n",
    "    k = 0\n",
    "    for x in test_itr:\n",
    "        u = x[0]\n",
    "        i = x[1]\n",
    "        if u !=u_pre or k==0:\n",
    "            u_pre = u\n",
    "            if k>0:\n",
    "                f.write('\\n')\n",
    "            f.write(str(u))\n",
    "            k = 1\n",
    "        f.write(' '+str(i))"
   ],
   "metadata": {
    "collapsed": false,
    "pycharm": {
     "name": "#%%\n"
    }
   }
  },
  {
   "cell_type": "code",
   "execution_count": null,
   "outputs": [],
   "source": [
    "for slot_id in range(slot_num-1):\n",
    "    slot_data = data_train[data_train['time_slot'].isin([slot_id])]\n",
    "    slot_data  = slot_data.sort_values(by=['iid'],ignore_index=True)\n",
    "    slot_data_np = slot_data[['iid','uid']].values[:,0:2]\n",
    "    print(slot_data.head(2))\n",
    "    print(slot_data[['iid','uid']].head(2))\n",
    "    print(slot_data.shape)\n",
    "    with open(\"t_\"+str(slot_id)+\".txt\",'w') as f:\n",
    "        i_pre = slot_data_np[0,0]\n",
    "        k = 0\n",
    "        for x in slot_data_np:\n",
    "            i_ = x[0]\n",
    "            u_ = x[1]\n",
    "            if i_ != i_pre or k == 0:\n",
    "                i_pre = i_\n",
    "                if k>0:\n",
    "                    f.write('\\n')\n",
    "                f.write(str(i_))\n",
    "                k = 1\n",
    "            f.write(\" \" + str(u_))"
   ],
   "metadata": {
    "collapsed": false,
    "pycharm": {
     "name": "#%%\n"
    }
   }
  },
  {
   "cell_type": "code",
   "execution_count": null,
   "outputs": [],
   "source": [
    "slot_test = data_test.sort_values('iid',ignore_index=True)\n",
    "slot_data_np = slot_test[['iid','uid']].values[:,0:2]\n",
    "print(slot_test[['iid','uid']].head(2))\n",
    "print(slot_test.shape)\n",
    "slot_id = slot_num-1\n",
    "with open(\"t_\"+str(slot_id)+\".txt\",'w') as f:\n",
    "    i_pre = slot_data_np[0,0]\n",
    "    k = 0\n",
    "    for x in slot_data_np:\n",
    "        i_ = x[0]\n",
    "        u_ = x[1]\n",
    "        if i_ != i_pre or k == 0:\n",
    "            i_pre = i_\n",
    "            if k>0:\n",
    "                f.write('\\n')\n",
    "            f.write(str(i_))\n",
    "            k = 1\n",
    "        f.write(\" \" + str(u_))\n",
    "\n",
    "\n",
    "\n"
   ],
   "metadata": {
    "collapsed": false,
    "pycharm": {
     "name": "#%%\n"
    }
   }
  }
 ],
 "metadata": {
  "kernelspec": {
   "display_name": "Python 3",
   "language": "python",
   "name": "python3"
  },
  "language_info": {
   "codemirror_mode": {
    "name": "ipython",
    "version": 2
   },
   "file_extension": ".py",
   "mimetype": "text/x-python",
   "name": "python",
   "nbconvert_exporter": "python",
   "pygments_lexer": "ipython2",
   "version": "2.7.6"
  }
 },
 "nbformat": 4,
 "nbformat_minor": 0
}