{
 "cells": [
  {
   "cell_type": "code",
   "execution_count": 1,
   "metadata": {},
   "outputs": [],
   "source": [
    "import pandas as pd \n",
    "import numpy as np"
   ]
  },
  {
   "cell_type": "markdown",
   "source": [
    "For Kwai, split the validation and testing in this script.\n",
    "Please note the names of saved files, you may change its name for utilize it.\n",
    "What we need are valid.txt/test.txt"
   ],
   "metadata": {
    "collapsed": false,
    "pycharm": {
     "name": "#%% md\n"
    }
   }
  },
  {
   "cell_type": "code",
   "execution_count": 2,
   "metadata": {},
   "outputs": [
    {
     "data": {
      "text/html": [
       "<div>\n",
       "<style scoped>\n",
       "    .dataframe tbody tr th:only-of-type {\n",
       "        vertical-align: middle;\n",
       "    }\n",
       "\n",
       "    .dataframe tbody tr th {\n",
       "        vertical-align: top;\n",
       "    }\n",
       "\n",
       "    .dataframe thead th {\n",
       "        text-align: right;\n",
       "    }\n",
       "</style>\n",
       "<table border=\"1\" class=\"dataframe\">\n",
       "  <thead>\n",
       "    <tr style=\"text-align: right;\">\n",
       "      <th></th>\n",
       "      <th>0</th>\n",
       "      <th>1</th>\n",
       "      <th>2</th>\n",
       "      <th>3</th>\n",
       "    </tr>\n",
       "  </thead>\n",
       "  <tbody>\n",
       "    <tr>\n",
       "      <th>0</th>\n",
       "      <td>20399</td>\n",
       "      <td>54159</td>\n",
       "      <td>9</td>\n",
       "      <td>1</td>\n",
       "    </tr>\n",
       "    <tr>\n",
       "      <th>1</th>\n",
       "      <td>3081</td>\n",
       "      <td>108658</td>\n",
       "      <td>9</td>\n",
       "      <td>1</td>\n",
       "    </tr>\n",
       "  </tbody>\n",
       "</table>\n",
       "</div>"
      ],
      "text/plain": [
       "       0       1  2  3\n",
       "0  20399   54159  9  1\n",
       "1   3081  108658  9  1"
      ]
     },
     "execution_count": 2,
     "metadata": {},
     "output_type": "execute_result"
    }
   ],
   "source": [
    "test_with_time  = pd.read_csv(\"teset_interaction_filter.txt\",sep=' ',header=None)\n",
    "test_with_time.head(2)"
   ]
  },
  {
   "cell_type": "code",
   "execution_count": 3,
   "metadata": {},
   "outputs": [
    {
     "data": {
      "text/html": [
       "<div>\n",
       "<style scoped>\n",
       "    .dataframe tbody tr th:only-of-type {\n",
       "        vertical-align: middle;\n",
       "    }\n",
       "\n",
       "    .dataframe tbody tr th {\n",
       "        vertical-align: top;\n",
       "    }\n",
       "\n",
       "    .dataframe thead th {\n",
       "        text-align: right;\n",
       "    }\n",
       "</style>\n",
       "<table border=\"1\" class=\"dataframe\">\n",
       "  <thead>\n",
       "    <tr style=\"text-align: right;\">\n",
       "      <th></th>\n",
       "      <th>uid</th>\n",
       "      <th>iid</th>\n",
       "      <th>time_slot</th>\n",
       "      <th>click</th>\n",
       "    </tr>\n",
       "  </thead>\n",
       "  <tbody>\n",
       "    <tr>\n",
       "      <th>0</th>\n",
       "      <td>20399</td>\n",
       "      <td>54159</td>\n",
       "      <td>9</td>\n",
       "      <td>1</td>\n",
       "    </tr>\n",
       "    <tr>\n",
       "      <th>1</th>\n",
       "      <td>3081</td>\n",
       "      <td>108658</td>\n",
       "      <td>9</td>\n",
       "      <td>1</td>\n",
       "    </tr>\n",
       "  </tbody>\n",
       "</table>\n",
       "</div>"
      ],
      "text/plain": [
       "     uid     iid  time_slot  click\n",
       "0  20399   54159          9      1\n",
       "1   3081  108658          9      1"
      ]
     },
     "execution_count": 3,
     "metadata": {},
     "output_type": "execute_result"
    }
   ],
   "source": [
    "test_with_time.columns = ['uid','iid','time_slot','click']\n",
    "test_with_time.head(2)"
   ]
  },
  {
   "cell_type": "code",
   "execution_count": 17,
   "metadata": {},
   "outputs": [
    {
     "name": "stdout",
     "output_type": "stream",
     "text": [
      "tot user in the last stage: 27688 real test user: 19381 real valid user: 8307\n"
     ]
    }
   ],
   "source": [
    "test_unique_user = test_with_time['uid'].unique()\n",
    "N_ = test_unique_user.shape[0]\n",
    "np.random.seed(2020)\n",
    "np.random.shuffle(test_unique_user)\n",
    "split_idx  = int(N_*0.7)\n",
    "test_real_user = test_unique_user[:split_idx]\n",
    "valid_real_user = test_unique_user[split_idx:]\n",
    "print(\"tot user in the last stage:\",N_,\"real test user:\",test_real_user.shape[0],\"real valid user:\",valid_real_user.shape[0])"
   ]
  },
  {
   "cell_type": "code",
   "execution_count": 7,
   "metadata": {},
   "outputs": [
    {
     "name": "stdout",
     "output_type": "stream",
     "text": [
      "tot itr: (652717, 4) real test: (456370, 4) real valid: (196347, 4)\n"
     ]
    }
   ],
   "source": [
    "data_real_test = test_with_time[test_with_time['uid'].isin(test_real_user)]\n",
    "data_real_valid = test_with_time[test_with_time['uid'].isin(valid_real_user)]\n",
    "print(\"tot itr:\",test_with_time.shape,\"real test:\",data_real_test.shape,\"real valid:\",data_real_valid.shape)"
   ]
  },
  {
   "cell_type": "code",
   "execution_count": 9,
   "metadata": {},
   "outputs": [
    {
     "name": "stdout",
     "output_type": "stream",
     "text": [
      "   uid     iid  time_slot  click\n",
      "0    0  120599          9      1\n",
      "1    0  106436          9      1\n",
      "(456370, 2)\n"
     ]
    }
   ],
   "source": [
    "user_items_test = data_real_test.sort_values(by='uid',ignore_index=True)\n",
    "print(user_items_test.head(2))\n",
    "test_itr = user_items_test.values[:,0:2]\n",
    "print(test_itr.shape)\n",
    "with open('test_real.txt','w') as f:\n",
    "    u_pre = test_itr[0,0]\n",
    "    k = 0\n",
    "    for x in test_itr:\n",
    "        u = x[0]\n",
    "        i = x[1]\n",
    "        if u !=u_pre or k==0:\n",
    "            u_pre = u\n",
    "            if k>0:\n",
    "                f.write('\\n')\n",
    "            f.write(str(u))\n",
    "            k = 1\n",
    "        f.write(' '+str(i))"
   ]
  },
  {
   "cell_type": "code",
   "execution_count": 10,
   "metadata": {
    "pycharm": {
     "name": "#%%\n"
    }
   },
   "outputs": [
    {
     "name": "stdout",
     "output_type": "stream",
     "text": [
      "   uid     iid  time_slot  click\n",
      "0    2  116927          9      1\n",
      "1    2  128699          9      1\n",
      "(196347, 2)\n"
     ]
    }
   ],
   "source": [
    "user_items_test = data_real_valid.sort_values(by='uid',ignore_index=True)\n",
    "print(user_items_test.head(2))\n",
    "test_itr = user_items_test.values[:,0:2]\n",
    "print(test_itr.shape)\n",
    "with open('valid_real.txt','w') as f:\n",
    "    u_pre = test_itr[0,0]\n",
    "    k = 0\n",
    "    for x in test_itr:\n",
    "        u = x[0]\n",
    "        i = x[1]\n",
    "        if u !=u_pre or k==0:\n",
    "            u_pre = u\n",
    "            if k>0:\n",
    "                f.write('\\n')\n",
    "            f.write(str(u))\n",
    "            k = 1\n",
    "        f.write(' '+str(i))\n"
   ]
  }
 ],
 "metadata": {
  "kernelspec": {
   "display_name": "Python 3",
   "language": "python",
   "name": "python3"
  },
  "language_info": {
   "codemirror_mode": {
    "name": "ipython",
    "version": 3
   },
   "file_extension": ".py",
   "mimetype": "text/x-python",
   "name": "python",
   "nbconvert_exporter": "python",
   "pygments_lexer": "ipython3",
   "version": "3.8.5"
  }
 },
 "nbformat": 4,
 "nbformat_minor": 4
}